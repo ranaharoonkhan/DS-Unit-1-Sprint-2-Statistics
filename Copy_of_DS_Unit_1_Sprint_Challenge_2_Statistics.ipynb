{
  "nbformat": 4,
  "nbformat_minor": 0,
  "metadata": {
    "colab": {
      "name": "Copy of DS_Unit_1_Sprint_Challenge_2_Statistics.ipynb",
      "provenance": [],
      "collapsed_sections": [],
      "include_colab_link": true
    },
    "kernelspec": {
      "name": "python3",
      "display_name": "Python 3"
    }
  },
  "cells": [
    {
      "cell_type": "markdown",
      "metadata": {
        "id": "view-in-github",
        "colab_type": "text"
      },
      "source": [
        "<a href=\"https://colab.research.google.com/github/ranaharoonkhan/DS-Unit-1-Sprint-2-Statistics/blob/master/Copy_of_DS_Unit_1_Sprint_Challenge_2_Statistics.ipynb\" target=\"_parent\"><img src=\"https://colab.research.google.com/assets/colab-badge.svg\" alt=\"Open In Colab\"/></a>"
      ]
    },
    {
      "cell_type": "markdown",
      "metadata": {
        "id": "NooAiTdnafkz",
        "colab_type": "text"
      },
      "source": [
        "# Data Science Unit 1 Sprint Challenge 2\n",
        "\n",
        "## Exploring Data, Testing Hypotheses\n",
        "\n",
        "In this sprint challenge you will look at a dataset of people being approved or rejected for credit.\n",
        "\n",
        "https://archive.ics.uci.edu/ml/datasets/Credit+Approval\n",
        "\n",
        "Data Set Information: This file concerns credit card applications. All attribute names and values have been changed to meaningless symbols to protect confidentiality of the data. This dataset is interesting because there is a good mix of attributes -- continuous, nominal with small numbers of values, and nominal with larger numbers of values. There are also a few missing values.\n",
        "\n",
        "Attribute Information:\n",
        "- A1: b, a.\n",
        "- A2: continuous.\n",
        "- A3: continuous.\n",
        "- A4: u, y, l, t.\n",
        "- A5: g, p, gg.\n",
        "- A6: c, d, cc, i, j, k, m, r, q, w, x, e, aa, ff.\n",
        "- A7: v, h, bb, j, n, z, dd, ff, o.\n",
        "- A8: continuous.\n",
        "- A9: t, f.\n",
        "- A10: t, f.\n",
        "- A11: continuous.\n",
        "- A12: t, f.\n",
        "- A13: g, p, s.\n",
        "- A14: continuous.\n",
        "- A15: continuous.\n",
        "- A16: +,- (class attribute)\n",
        "\n",
        "Yes, most of that doesn't mean anything. A16 is a variable that indicates whether or not a person's request for credit has been approved or denied. This is a good candidate for a y variable since we might want to use the other features to predict this one. The remaining variables have been obfuscated for privacy - a challenge you may have to deal with in your data science career.\n",
        "\n",
        "Sprint challenges are evaluated based on satisfactory completion of each part. It is suggested you work through it in order, getting each aspect reasonably working, before trying to deeply explore, iterate, or refine any given step. Once you get to the end, if you want to go back and improve things, go for it!"
      ]
    },
    {
      "cell_type": "markdown",
      "metadata": {
        "id": "5wch6ksCbJtZ",
        "colab_type": "text"
      },
      "source": [
        "## Part 1 - Load and validate the data\n",
        "\n",
        "- Load the data as a `pandas` data frame.\n",
        "- Validate that it has the appropriate number of observations (you can check the raw file, and also read the dataset description from UCI).\n",
        "- UCI says there should be missing data - check, and if necessary change the data so pandas recognizes it as na\n",
        "- Make sure that the loaded features are of the types described above (continuous values should be treated as float), and correct as necessary\n",
        "\n",
        "This is review, but skills that you'll use at the start of any data exploration. Further, you may have to do some investigation to figure out which file to load from - that is part of the puzzle."
      ]
    },
    {
      "cell_type": "code",
      "metadata": {
        "id": "Q79xDLckzibS",
        "colab_type": "code",
        "outputId": "3f2809a3-d609-41aa-d164-572081239a3a",
        "colab": {
          "base_uri": "https://localhost:8080/",
          "height": 204
        }
      },
      "source": [
        "import pandas as pd\n",
        "header=['A1','A2','A3','A4','A5','A6','A7','A8','A9','A10','A11','A12','A13','A14','A15','A16']\n",
        "data= pd.read_csv('crx.data',header=None,names=header, na_values=\"?\")\n",
        "data.head()"
      ],
      "execution_count": 0,
      "outputs": [
        {
          "output_type": "execute_result",
          "data": {
            "text/html": [
              "<div>\n",
              "<style scoped>\n",
              "    .dataframe tbody tr th:only-of-type {\n",
              "        vertical-align: middle;\n",
              "    }\n",
              "\n",
              "    .dataframe tbody tr th {\n",
              "        vertical-align: top;\n",
              "    }\n",
              "\n",
              "    .dataframe thead th {\n",
              "        text-align: right;\n",
              "    }\n",
              "</style>\n",
              "<table border=\"1\" class=\"dataframe\">\n",
              "  <thead>\n",
              "    <tr style=\"text-align: right;\">\n",
              "      <th></th>\n",
              "      <th>A1</th>\n",
              "      <th>A2</th>\n",
              "      <th>A3</th>\n",
              "      <th>A4</th>\n",
              "      <th>A5</th>\n",
              "      <th>A6</th>\n",
              "      <th>A7</th>\n",
              "      <th>A8</th>\n",
              "      <th>A9</th>\n",
              "      <th>A10</th>\n",
              "      <th>A11</th>\n",
              "      <th>A12</th>\n",
              "      <th>A13</th>\n",
              "      <th>A14</th>\n",
              "      <th>A15</th>\n",
              "      <th>A16</th>\n",
              "    </tr>\n",
              "  </thead>\n",
              "  <tbody>\n",
              "    <tr>\n",
              "      <th>0</th>\n",
              "      <td>b</td>\n",
              "      <td>30.83</td>\n",
              "      <td>0.000</td>\n",
              "      <td>u</td>\n",
              "      <td>g</td>\n",
              "      <td>w</td>\n",
              "      <td>v</td>\n",
              "      <td>1.25</td>\n",
              "      <td>t</td>\n",
              "      <td>t</td>\n",
              "      <td>1</td>\n",
              "      <td>f</td>\n",
              "      <td>g</td>\n",
              "      <td>202.0</td>\n",
              "      <td>0</td>\n",
              "      <td>+</td>\n",
              "    </tr>\n",
              "    <tr>\n",
              "      <th>1</th>\n",
              "      <td>a</td>\n",
              "      <td>58.67</td>\n",
              "      <td>4.460</td>\n",
              "      <td>u</td>\n",
              "      <td>g</td>\n",
              "      <td>q</td>\n",
              "      <td>h</td>\n",
              "      <td>3.04</td>\n",
              "      <td>t</td>\n",
              "      <td>t</td>\n",
              "      <td>6</td>\n",
              "      <td>f</td>\n",
              "      <td>g</td>\n",
              "      <td>43.0</td>\n",
              "      <td>560</td>\n",
              "      <td>+</td>\n",
              "    </tr>\n",
              "    <tr>\n",
              "      <th>2</th>\n",
              "      <td>a</td>\n",
              "      <td>24.50</td>\n",
              "      <td>0.500</td>\n",
              "      <td>u</td>\n",
              "      <td>g</td>\n",
              "      <td>q</td>\n",
              "      <td>h</td>\n",
              "      <td>1.50</td>\n",
              "      <td>t</td>\n",
              "      <td>f</td>\n",
              "      <td>0</td>\n",
              "      <td>f</td>\n",
              "      <td>g</td>\n",
              "      <td>280.0</td>\n",
              "      <td>824</td>\n",
              "      <td>+</td>\n",
              "    </tr>\n",
              "    <tr>\n",
              "      <th>3</th>\n",
              "      <td>b</td>\n",
              "      <td>27.83</td>\n",
              "      <td>1.540</td>\n",
              "      <td>u</td>\n",
              "      <td>g</td>\n",
              "      <td>w</td>\n",
              "      <td>v</td>\n",
              "      <td>3.75</td>\n",
              "      <td>t</td>\n",
              "      <td>t</td>\n",
              "      <td>5</td>\n",
              "      <td>t</td>\n",
              "      <td>g</td>\n",
              "      <td>100.0</td>\n",
              "      <td>3</td>\n",
              "      <td>+</td>\n",
              "    </tr>\n",
              "    <tr>\n",
              "      <th>4</th>\n",
              "      <td>b</td>\n",
              "      <td>20.17</td>\n",
              "      <td>5.625</td>\n",
              "      <td>u</td>\n",
              "      <td>g</td>\n",
              "      <td>w</td>\n",
              "      <td>v</td>\n",
              "      <td>1.71</td>\n",
              "      <td>t</td>\n",
              "      <td>f</td>\n",
              "      <td>0</td>\n",
              "      <td>f</td>\n",
              "      <td>s</td>\n",
              "      <td>120.0</td>\n",
              "      <td>0</td>\n",
              "      <td>+</td>\n",
              "    </tr>\n",
              "  </tbody>\n",
              "</table>\n",
              "</div>"
            ],
            "text/plain": [
              "  A1     A2     A3 A4 A5 A6 A7    A8 A9 A10  A11 A12 A13    A14  A15 A16\n",
              "0  b  30.83  0.000  u  g  w  v  1.25  t   t    1   f   g  202.0    0   +\n",
              "1  a  58.67  4.460  u  g  q  h  3.04  t   t    6   f   g   43.0  560   +\n",
              "2  a  24.50  0.500  u  g  q  h  1.50  t   f    0   f   g  280.0  824   +\n",
              "3  b  27.83  1.540  u  g  w  v  3.75  t   t    5   t   g  100.0    3   +\n",
              "4  b  20.17  5.625  u  g  w  v  1.71  t   f    0   f   s  120.0    0   +"
            ]
          },
          "metadata": {
            "tags": []
          },
          "execution_count": 1
        }
      ]
    },
    {
      "cell_type": "code",
      "metadata": {
        "id": "_MuMOvMZKT3d",
        "colab_type": "code",
        "outputId": "0ec6ecc0-2097-4d90-dbe9-81b989cfff0d",
        "colab": {
          "base_uri": "https://localhost:8080/",
          "height": 34
        }
      },
      "source": [
        "data.shape"
      ],
      "execution_count": 0,
      "outputs": [
        {
          "output_type": "execute_result",
          "data": {
            "text/plain": [
              "(690, 16)"
            ]
          },
          "metadata": {
            "tags": []
          },
          "execution_count": 2
        }
      ]
    },
    {
      "cell_type": "code",
      "metadata": {
        "id": "Fl3wJiWbKalQ",
        "colab_type": "code",
        "outputId": "51384231-92ac-4a52-f396-d61a02e2b790",
        "colab": {
          "base_uri": "https://localhost:8080/",
          "height": 306
        }
      },
      "source": [
        "data.isnull().sum()"
      ],
      "execution_count": 0,
      "outputs": [
        {
          "output_type": "execute_result",
          "data": {
            "text/plain": [
              "A1     12\n",
              "A2     12\n",
              "A3      0\n",
              "A4      6\n",
              "A5      6\n",
              "A6      9\n",
              "A7      9\n",
              "A8      0\n",
              "A9      0\n",
              "A10     0\n",
              "A11     0\n",
              "A12     0\n",
              "A13     0\n",
              "A14    13\n",
              "A15     0\n",
              "A16     0\n",
              "dtype: int64"
            ]
          },
          "metadata": {
            "tags": []
          },
          "execution_count": 3
        }
      ]
    },
    {
      "cell_type": "code",
      "metadata": {
        "id": "pyGxYXPaKwv-",
        "colab_type": "code",
        "outputId": "6b3aeece-cd1e-4bf3-b070-76bbeb5c36b6",
        "colab": {
          "base_uri": "https://localhost:8080/",
          "height": 297
        }
      },
      "source": [
        "data.describe()"
      ],
      "execution_count": 0,
      "outputs": [
        {
          "output_type": "execute_result",
          "data": {
            "text/html": [
              "<div>\n",
              "<style scoped>\n",
              "    .dataframe tbody tr th:only-of-type {\n",
              "        vertical-align: middle;\n",
              "    }\n",
              "\n",
              "    .dataframe tbody tr th {\n",
              "        vertical-align: top;\n",
              "    }\n",
              "\n",
              "    .dataframe thead th {\n",
              "        text-align: right;\n",
              "    }\n",
              "</style>\n",
              "<table border=\"1\" class=\"dataframe\">\n",
              "  <thead>\n",
              "    <tr style=\"text-align: right;\">\n",
              "      <th></th>\n",
              "      <th>A2</th>\n",
              "      <th>A3</th>\n",
              "      <th>A8</th>\n",
              "      <th>A11</th>\n",
              "      <th>A14</th>\n",
              "      <th>A15</th>\n",
              "    </tr>\n",
              "  </thead>\n",
              "  <tbody>\n",
              "    <tr>\n",
              "      <th>count</th>\n",
              "      <td>678.000000</td>\n",
              "      <td>690.000000</td>\n",
              "      <td>690.000000</td>\n",
              "      <td>690.00000</td>\n",
              "      <td>677.000000</td>\n",
              "      <td>690.000000</td>\n",
              "    </tr>\n",
              "    <tr>\n",
              "      <th>mean</th>\n",
              "      <td>31.568171</td>\n",
              "      <td>4.758725</td>\n",
              "      <td>2.223406</td>\n",
              "      <td>2.40000</td>\n",
              "      <td>184.014771</td>\n",
              "      <td>1017.385507</td>\n",
              "    </tr>\n",
              "    <tr>\n",
              "      <th>std</th>\n",
              "      <td>11.957862</td>\n",
              "      <td>4.978163</td>\n",
              "      <td>3.346513</td>\n",
              "      <td>4.86294</td>\n",
              "      <td>173.806768</td>\n",
              "      <td>5210.102598</td>\n",
              "    </tr>\n",
              "    <tr>\n",
              "      <th>min</th>\n",
              "      <td>13.750000</td>\n",
              "      <td>0.000000</td>\n",
              "      <td>0.000000</td>\n",
              "      <td>0.00000</td>\n",
              "      <td>0.000000</td>\n",
              "      <td>0.000000</td>\n",
              "    </tr>\n",
              "    <tr>\n",
              "      <th>25%</th>\n",
              "      <td>22.602500</td>\n",
              "      <td>1.000000</td>\n",
              "      <td>0.165000</td>\n",
              "      <td>0.00000</td>\n",
              "      <td>75.000000</td>\n",
              "      <td>0.000000</td>\n",
              "    </tr>\n",
              "    <tr>\n",
              "      <th>50%</th>\n",
              "      <td>28.460000</td>\n",
              "      <td>2.750000</td>\n",
              "      <td>1.000000</td>\n",
              "      <td>0.00000</td>\n",
              "      <td>160.000000</td>\n",
              "      <td>5.000000</td>\n",
              "    </tr>\n",
              "    <tr>\n",
              "      <th>75%</th>\n",
              "      <td>38.230000</td>\n",
              "      <td>7.207500</td>\n",
              "      <td>2.625000</td>\n",
              "      <td>3.00000</td>\n",
              "      <td>276.000000</td>\n",
              "      <td>395.500000</td>\n",
              "    </tr>\n",
              "    <tr>\n",
              "      <th>max</th>\n",
              "      <td>80.250000</td>\n",
              "      <td>28.000000</td>\n",
              "      <td>28.500000</td>\n",
              "      <td>67.00000</td>\n",
              "      <td>2000.000000</td>\n",
              "      <td>100000.000000</td>\n",
              "    </tr>\n",
              "  </tbody>\n",
              "</table>\n",
              "</div>"
            ],
            "text/plain": [
              "               A2          A3  ...          A14            A15\n",
              "count  678.000000  690.000000  ...   677.000000     690.000000\n",
              "mean    31.568171    4.758725  ...   184.014771    1017.385507\n",
              "std     11.957862    4.978163  ...   173.806768    5210.102598\n",
              "min     13.750000    0.000000  ...     0.000000       0.000000\n",
              "25%     22.602500    1.000000  ...    75.000000       0.000000\n",
              "50%     28.460000    2.750000  ...   160.000000       5.000000\n",
              "75%     38.230000    7.207500  ...   276.000000     395.500000\n",
              "max     80.250000   28.000000  ...  2000.000000  100000.000000\n",
              "\n",
              "[8 rows x 6 columns]"
            ]
          },
          "metadata": {
            "tags": []
          },
          "execution_count": 4
        }
      ]
    },
    {
      "cell_type": "code",
      "metadata": {
        "id": "qhbB0Z_kK-MC",
        "colab_type": "code",
        "outputId": "73e54b9a-04cc-48c2-f2c4-d0eb67dc4715",
        "colab": {
          "base_uri": "https://localhost:8080/",
          "height": 390
        }
      },
      "source": [
        "data.describe(exclude=int)"
      ],
      "execution_count": 0,
      "outputs": [
        {
          "output_type": "execute_result",
          "data": {
            "text/html": [
              "<div>\n",
              "<style scoped>\n",
              "    .dataframe tbody tr th:only-of-type {\n",
              "        vertical-align: middle;\n",
              "    }\n",
              "\n",
              "    .dataframe tbody tr th {\n",
              "        vertical-align: top;\n",
              "    }\n",
              "\n",
              "    .dataframe thead th {\n",
              "        text-align: right;\n",
              "    }\n",
              "</style>\n",
              "<table border=\"1\" class=\"dataframe\">\n",
              "  <thead>\n",
              "    <tr style=\"text-align: right;\">\n",
              "      <th></th>\n",
              "      <th>A1</th>\n",
              "      <th>A2</th>\n",
              "      <th>A3</th>\n",
              "      <th>A4</th>\n",
              "      <th>A5</th>\n",
              "      <th>A6</th>\n",
              "      <th>A7</th>\n",
              "      <th>A8</th>\n",
              "      <th>A9</th>\n",
              "      <th>A10</th>\n",
              "      <th>A12</th>\n",
              "      <th>A13</th>\n",
              "      <th>A14</th>\n",
              "      <th>A16</th>\n",
              "    </tr>\n",
              "  </thead>\n",
              "  <tbody>\n",
              "    <tr>\n",
              "      <th>count</th>\n",
              "      <td>678</td>\n",
              "      <td>678.000000</td>\n",
              "      <td>690.000000</td>\n",
              "      <td>684</td>\n",
              "      <td>684</td>\n",
              "      <td>681</td>\n",
              "      <td>681</td>\n",
              "      <td>690.000000</td>\n",
              "      <td>690</td>\n",
              "      <td>690</td>\n",
              "      <td>690</td>\n",
              "      <td>690</td>\n",
              "      <td>677.000000</td>\n",
              "      <td>690</td>\n",
              "    </tr>\n",
              "    <tr>\n",
              "      <th>unique</th>\n",
              "      <td>2</td>\n",
              "      <td>NaN</td>\n",
              "      <td>NaN</td>\n",
              "      <td>3</td>\n",
              "      <td>3</td>\n",
              "      <td>14</td>\n",
              "      <td>9</td>\n",
              "      <td>NaN</td>\n",
              "      <td>2</td>\n",
              "      <td>2</td>\n",
              "      <td>2</td>\n",
              "      <td>3</td>\n",
              "      <td>NaN</td>\n",
              "      <td>2</td>\n",
              "    </tr>\n",
              "    <tr>\n",
              "      <th>top</th>\n",
              "      <td>b</td>\n",
              "      <td>NaN</td>\n",
              "      <td>NaN</td>\n",
              "      <td>u</td>\n",
              "      <td>g</td>\n",
              "      <td>c</td>\n",
              "      <td>v</td>\n",
              "      <td>NaN</td>\n",
              "      <td>t</td>\n",
              "      <td>f</td>\n",
              "      <td>f</td>\n",
              "      <td>g</td>\n",
              "      <td>NaN</td>\n",
              "      <td>-</td>\n",
              "    </tr>\n",
              "    <tr>\n",
              "      <th>freq</th>\n",
              "      <td>468</td>\n",
              "      <td>NaN</td>\n",
              "      <td>NaN</td>\n",
              "      <td>519</td>\n",
              "      <td>519</td>\n",
              "      <td>137</td>\n",
              "      <td>399</td>\n",
              "      <td>NaN</td>\n",
              "      <td>361</td>\n",
              "      <td>395</td>\n",
              "      <td>374</td>\n",
              "      <td>625</td>\n",
              "      <td>NaN</td>\n",
              "      <td>383</td>\n",
              "    </tr>\n",
              "    <tr>\n",
              "      <th>mean</th>\n",
              "      <td>NaN</td>\n",
              "      <td>31.568171</td>\n",
              "      <td>4.758725</td>\n",
              "      <td>NaN</td>\n",
              "      <td>NaN</td>\n",
              "      <td>NaN</td>\n",
              "      <td>NaN</td>\n",
              "      <td>2.223406</td>\n",
              "      <td>NaN</td>\n",
              "      <td>NaN</td>\n",
              "      <td>NaN</td>\n",
              "      <td>NaN</td>\n",
              "      <td>184.014771</td>\n",
              "      <td>NaN</td>\n",
              "    </tr>\n",
              "    <tr>\n",
              "      <th>std</th>\n",
              "      <td>NaN</td>\n",
              "      <td>11.957862</td>\n",
              "      <td>4.978163</td>\n",
              "      <td>NaN</td>\n",
              "      <td>NaN</td>\n",
              "      <td>NaN</td>\n",
              "      <td>NaN</td>\n",
              "      <td>3.346513</td>\n",
              "      <td>NaN</td>\n",
              "      <td>NaN</td>\n",
              "      <td>NaN</td>\n",
              "      <td>NaN</td>\n",
              "      <td>173.806768</td>\n",
              "      <td>NaN</td>\n",
              "    </tr>\n",
              "    <tr>\n",
              "      <th>min</th>\n",
              "      <td>NaN</td>\n",
              "      <td>13.750000</td>\n",
              "      <td>0.000000</td>\n",
              "      <td>NaN</td>\n",
              "      <td>NaN</td>\n",
              "      <td>NaN</td>\n",
              "      <td>NaN</td>\n",
              "      <td>0.000000</td>\n",
              "      <td>NaN</td>\n",
              "      <td>NaN</td>\n",
              "      <td>NaN</td>\n",
              "      <td>NaN</td>\n",
              "      <td>0.000000</td>\n",
              "      <td>NaN</td>\n",
              "    </tr>\n",
              "    <tr>\n",
              "      <th>25%</th>\n",
              "      <td>NaN</td>\n",
              "      <td>22.602500</td>\n",
              "      <td>1.000000</td>\n",
              "      <td>NaN</td>\n",
              "      <td>NaN</td>\n",
              "      <td>NaN</td>\n",
              "      <td>NaN</td>\n",
              "      <td>0.165000</td>\n",
              "      <td>NaN</td>\n",
              "      <td>NaN</td>\n",
              "      <td>NaN</td>\n",
              "      <td>NaN</td>\n",
              "      <td>75.000000</td>\n",
              "      <td>NaN</td>\n",
              "    </tr>\n",
              "    <tr>\n",
              "      <th>50%</th>\n",
              "      <td>NaN</td>\n",
              "      <td>28.460000</td>\n",
              "      <td>2.750000</td>\n",
              "      <td>NaN</td>\n",
              "      <td>NaN</td>\n",
              "      <td>NaN</td>\n",
              "      <td>NaN</td>\n",
              "      <td>1.000000</td>\n",
              "      <td>NaN</td>\n",
              "      <td>NaN</td>\n",
              "      <td>NaN</td>\n",
              "      <td>NaN</td>\n",
              "      <td>160.000000</td>\n",
              "      <td>NaN</td>\n",
              "    </tr>\n",
              "    <tr>\n",
              "      <th>75%</th>\n",
              "      <td>NaN</td>\n",
              "      <td>38.230000</td>\n",
              "      <td>7.207500</td>\n",
              "      <td>NaN</td>\n",
              "      <td>NaN</td>\n",
              "      <td>NaN</td>\n",
              "      <td>NaN</td>\n",
              "      <td>2.625000</td>\n",
              "      <td>NaN</td>\n",
              "      <td>NaN</td>\n",
              "      <td>NaN</td>\n",
              "      <td>NaN</td>\n",
              "      <td>276.000000</td>\n",
              "      <td>NaN</td>\n",
              "    </tr>\n",
              "    <tr>\n",
              "      <th>max</th>\n",
              "      <td>NaN</td>\n",
              "      <td>80.250000</td>\n",
              "      <td>28.000000</td>\n",
              "      <td>NaN</td>\n",
              "      <td>NaN</td>\n",
              "      <td>NaN</td>\n",
              "      <td>NaN</td>\n",
              "      <td>28.500000</td>\n",
              "      <td>NaN</td>\n",
              "      <td>NaN</td>\n",
              "      <td>NaN</td>\n",
              "      <td>NaN</td>\n",
              "      <td>2000.000000</td>\n",
              "      <td>NaN</td>\n",
              "    </tr>\n",
              "  </tbody>\n",
              "</table>\n",
              "</div>"
            ],
            "text/plain": [
              "         A1          A2          A3   A4   A5  ...  A10  A12  A13          A14  A16\n",
              "count   678  678.000000  690.000000  684  684  ...  690  690  690   677.000000  690\n",
              "unique    2         NaN         NaN    3    3  ...    2    2    3          NaN    2\n",
              "top       b         NaN         NaN    u    g  ...    f    f    g          NaN    -\n",
              "freq    468         NaN         NaN  519  519  ...  395  374  625          NaN  383\n",
              "mean    NaN   31.568171    4.758725  NaN  NaN  ...  NaN  NaN  NaN   184.014771  NaN\n",
              "std     NaN   11.957862    4.978163  NaN  NaN  ...  NaN  NaN  NaN   173.806768  NaN\n",
              "min     NaN   13.750000    0.000000  NaN  NaN  ...  NaN  NaN  NaN     0.000000  NaN\n",
              "25%     NaN   22.602500    1.000000  NaN  NaN  ...  NaN  NaN  NaN    75.000000  NaN\n",
              "50%     NaN   28.460000    2.750000  NaN  NaN  ...  NaN  NaN  NaN   160.000000  NaN\n",
              "75%     NaN   38.230000    7.207500  NaN  NaN  ...  NaN  NaN  NaN   276.000000  NaN\n",
              "max     NaN   80.250000   28.000000  NaN  NaN  ...  NaN  NaN  NaN  2000.000000  NaN\n",
              "\n",
              "[11 rows x 14 columns]"
            ]
          },
          "metadata": {
            "tags": []
          },
          "execution_count": 5
        }
      ]
    },
    {
      "cell_type": "code",
      "metadata": {
        "id": "6ITmP3vvM2Mj",
        "colab_type": "code",
        "outputId": "02af6c4a-2938-41f4-c1aa-18d33756ae65",
        "colab": {
          "base_uri": "https://localhost:8080/",
          "height": 221
        }
      },
      "source": [
        "data['A2'].value_counts()"
      ],
      "execution_count": 0,
      "outputs": [
        {
          "output_type": "execute_result",
          "data": {
            "text/plain": [
              "22.67    9\n",
              "20.42    7\n",
              "24.50    6\n",
              "22.50    6\n",
              "25.00    6\n",
              "        ..\n",
              "44.83    1\n",
              "60.58    1\n",
              "50.08    1\n",
              "34.58    1\n",
              "28.33    1\n",
              "Name: A2, Length: 349, dtype: int64"
            ]
          },
          "metadata": {
            "tags": []
          },
          "execution_count": 6
        }
      ]
    },
    {
      "cell_type": "code",
      "metadata": {
        "id": "YKbsh5lZOmsw",
        "colab_type": "code",
        "outputId": "c8e0a360-1821-4efe-97d9-d8ca08248999",
        "colab": {
          "base_uri": "https://localhost:8080/",
          "height": 221
        }
      },
      "source": [
        "data['A3'].value_counts()"
      ],
      "execution_count": 0,
      "outputs": [
        {
          "output_type": "execute_result",
          "data": {
            "text/plain": [
              "1.500     21\n",
              "0.000     19\n",
              "3.000     19\n",
              "2.500     19\n",
              "1.250     16\n",
              "          ..\n",
              "12.125     1\n",
              "13.915     1\n",
              "22.000     1\n",
              "12.835     1\n",
              "10.915     1\n",
              "Name: A3, Length: 215, dtype: int64"
            ]
          },
          "metadata": {
            "tags": []
          },
          "execution_count": 7
        }
      ]
    },
    {
      "cell_type": "code",
      "metadata": {
        "id": "AhB0Qy9gOnGx",
        "colab_type": "code",
        "outputId": "827fc383-bf75-4313-e3a1-069d1d03478b",
        "colab": {
          "base_uri": "https://localhost:8080/",
          "height": 221
        }
      },
      "source": [
        "data['A8'].value_counts()"
      ],
      "execution_count": 0,
      "outputs": [
        {
          "output_type": "execute_result",
          "data": {
            "text/plain": [
              "0.000    70\n",
              "0.250    35\n",
              "0.040    33\n",
              "1.000    31\n",
              "0.125    30\n",
              "         ..\n",
              "3.960     1\n",
              "2.040     1\n",
              "1.040     1\n",
              "4.165     1\n",
              "5.375     1\n",
              "Name: A8, Length: 132, dtype: int64"
            ]
          },
          "metadata": {
            "tags": []
          },
          "execution_count": 8
        }
      ]
    },
    {
      "cell_type": "code",
      "metadata": {
        "id": "GRQvgRBPOrtS",
        "colab_type": "code",
        "outputId": "d8bcecff-b532-4d64-f796-6e0f18d1c299",
        "colab": {
          "base_uri": "https://localhost:8080/",
          "height": 425
        }
      },
      "source": [
        "data['A11'].value_counts()"
      ],
      "execution_count": 0,
      "outputs": [
        {
          "output_type": "execute_result",
          "data": {
            "text/plain": [
              "0     395\n",
              "1      71\n",
              "2      45\n",
              "3      28\n",
              "6      23\n",
              "11     19\n",
              "5      18\n",
              "7      16\n",
              "4      15\n",
              "8      10\n",
              "9      10\n",
              "14      8\n",
              "12      8\n",
              "10      8\n",
              "15      4\n",
              "16      3\n",
              "17      2\n",
              "20      2\n",
              "40      1\n",
              "13      1\n",
              "19      1\n",
              "23      1\n",
              "67      1\n",
              "Name: A11, dtype: int64"
            ]
          },
          "metadata": {
            "tags": []
          },
          "execution_count": 9
        }
      ]
    },
    {
      "cell_type": "code",
      "metadata": {
        "id": "dELdLs6BOsCV",
        "colab_type": "code",
        "outputId": "91bfd7f4-9f59-4501-a163-1e5c4d95a487",
        "colab": {
          "base_uri": "https://localhost:8080/",
          "height": 221
        }
      },
      "source": [
        "data['A14'].value_counts()"
      ],
      "execution_count": 0,
      "outputs": [
        {
          "output_type": "execute_result",
          "data": {
            "text/plain": [
              "0.0      132\n",
              "120.0     35\n",
              "200.0     35\n",
              "160.0     34\n",
              "100.0     30\n",
              "        ... \n",
              "224.0      1\n",
              "186.0      1\n",
              "32.0       1\n",
              "432.0      1\n",
              "202.0      1\n",
              "Name: A14, Length: 170, dtype: int64"
            ]
          },
          "metadata": {
            "tags": []
          },
          "execution_count": 10
        }
      ]
    },
    {
      "cell_type": "code",
      "metadata": {
        "id": "7Fy40uRzOsSB",
        "colab_type": "code",
        "outputId": "06d89424-5716-48d4-befd-8a565d04f3aa",
        "colab": {
          "base_uri": "https://localhost:8080/",
          "height": 221
        }
      },
      "source": [
        "print(data['A15'].value_counts())"
      ],
      "execution_count": 0,
      "outputs": [
        {
          "output_type": "stream",
          "text": [
            "0       295\n",
            "1        29\n",
            "1000     10\n",
            "500      10\n",
            "2         9\n",
            "       ... \n",
            "2503      1\n",
            "6590      1\n",
            "1465      1\n",
            "5552      1\n",
            "283       1\n",
            "Name: A15, Length: 240, dtype: int64\n"
          ],
          "name": "stdout"
        }
      ]
    },
    {
      "cell_type": "code",
      "metadata": {
        "id": "LWGeX5HtPpOJ",
        "colab_type": "code",
        "colab": {}
      },
      "source": [
        ""
      ],
      "execution_count": 0,
      "outputs": []
    },
    {
      "cell_type": "markdown",
      "metadata": {
        "id": "G7rLytbrO38L",
        "colab_type": "text"
      },
      "source": [
        "## Part 2 - Exploring data, Testing hypotheses\n",
        "\n",
        "The only thing we really know about this data is that A16 is the class label. Besides that, we have 6 continuous (float) features and 9 categorical features.\n",
        "\n",
        "Explore the data: you can use whatever approach (tables, utility functions, visualizations) to get an impression of the distributions and relationships of the variables. In general, your goal is to understand how the features are different when grouped by the two class labels (`+` and `-`).\n",
        "\n",
        "For the 6 continuous features, how are they different when split between the two class labels? Choose two features to run t-tests (again split by class label) - specifically, select one feature that is *extremely* different between the classes, and another feature that is notably less different (though perhaps still \"statistically significantly\" different). You may have to explore more than two features to do this.\n",
        "\n",
        "For the categorical features, explore by creating \"cross tabs\" (aka [contingency tables](https://en.wikipedia.org/wiki/Contingency_table)) between them and the class label, and apply the Chi-squared test to them. [pandas.crosstab](http://pandas.pydata.org/pandas-docs/stable/reference/api/pandas.crosstab.html) can create contingency tables, and [scipy.stats.chi2_contingency](https://docs.scipy.org/doc/scipy/reference/generated/scipy.stats.chi2_contingency.html) can calculate the Chi-squared statistic for them.\n",
        "\n",
        "There are 9 categorical features - as with the t-test, try to find one where the Chi-squared test returns an extreme result (rejecting the null that the data are independent), and one where it is less extreme.\n",
        "\n",
        "**NOTE** - \"less extreme\" just means smaller test statistic/larger p-value. Even the least extreme differences may be strongly statistically significant.\n",
        "\n",
        "Your *main* goal is the hypothesis tests, so don't spend too much time on the exploration/visualization piece. That is just a means to an end - use simple visualizations, such as boxplots or a scatter matrix (both built in to pandas), to get a feel for the overall distribution of the variables.\n",
        "\n",
        "This is challenging, so manage your time and aim for a baseline of at least running two t-tests and two Chi-squared tests before polishing. And don't forget to answer the questions in part 3, even if your results in this part aren't what you want them to be."
      ]
    },
    {
      "cell_type": "code",
      "metadata": {
        "id": "_nqcgc0yzm68",
        "colab_type": "code",
        "outputId": "6eb2d430-9bfa-4b6b-bafa-4f8085d0d15e",
        "colab": {
          "base_uri": "https://localhost:8080/",
          "height": 68
        }
      },
      "source": [
        "# checking our class column\n",
        "data['A16'].value_counts()"
      ],
      "execution_count": 0,
      "outputs": [
        {
          "output_type": "execute_result",
          "data": {
            "text/plain": [
              "-    383\n",
              "+    307\n",
              "Name: A16, dtype: int64"
            ]
          },
          "metadata": {
            "tags": []
          },
          "execution_count": 12
        }
      ]
    },
    {
      "cell_type": "code",
      "metadata": {
        "id": "rwAzMVpjU35o",
        "colab_type": "code",
        "outputId": "610bf7ab-aae7-461e-cfff-ee71123f9ce6",
        "colab": {
          "base_uri": "https://localhost:8080/",
          "height": 34
        }
      },
      "source": [
        "#grouping our data set as per our class attribute approved cards \n",
        "aproved_cards=data[data['A16']=='+']\n",
        "aproved_cards.shape"
      ],
      "execution_count": 0,
      "outputs": [
        {
          "output_type": "execute_result",
          "data": {
            "text/plain": [
              "(307, 16)"
            ]
          },
          "metadata": {
            "tags": []
          },
          "execution_count": 13
        }
      ]
    },
    {
      "cell_type": "code",
      "metadata": {
        "id": "gbZCdMI6Vnld",
        "colab_type": "code",
        "outputId": "a0475bce-2d79-47d8-fc66-14b22384e054",
        "colab": {
          "base_uri": "https://localhost:8080/",
          "height": 34
        }
      },
      "source": [
        "#grouping our data set as per our class attribute rejected cards \n",
        "rejected_cards=data[data['A16']=='-']\n",
        "rejected_cards.shape"
      ],
      "execution_count": 0,
      "outputs": [
        {
          "output_type": "execute_result",
          "data": {
            "text/plain": [
              "(383, 16)"
            ]
          },
          "metadata": {
            "tags": []
          },
          "execution_count": 14
        }
      ]
    },
    {
      "cell_type": "code",
      "metadata": {
        "id": "3H5ub0otW61m",
        "colab_type": "code",
        "outputId": "d170cf7b-c0ec-41c7-e849-62bb206798e1",
        "colab": {
          "base_uri": "https://localhost:8080/",
          "height": 204
        }
      },
      "source": [
        "aproved_cards.sample(5)"
      ],
      "execution_count": 0,
      "outputs": [
        {
          "output_type": "execute_result",
          "data": {
            "text/html": [
              "<div>\n",
              "<style scoped>\n",
              "    .dataframe tbody tr th:only-of-type {\n",
              "        vertical-align: middle;\n",
              "    }\n",
              "\n",
              "    .dataframe tbody tr th {\n",
              "        vertical-align: top;\n",
              "    }\n",
              "\n",
              "    .dataframe thead th {\n",
              "        text-align: right;\n",
              "    }\n",
              "</style>\n",
              "<table border=\"1\" class=\"dataframe\">\n",
              "  <thead>\n",
              "    <tr style=\"text-align: right;\">\n",
              "      <th></th>\n",
              "      <th>A1</th>\n",
              "      <th>A2</th>\n",
              "      <th>A3</th>\n",
              "      <th>A4</th>\n",
              "      <th>A5</th>\n",
              "      <th>A6</th>\n",
              "      <th>A7</th>\n",
              "      <th>A8</th>\n",
              "      <th>A9</th>\n",
              "      <th>A10</th>\n",
              "      <th>A11</th>\n",
              "      <th>A12</th>\n",
              "      <th>A13</th>\n",
              "      <th>A14</th>\n",
              "      <th>A15</th>\n",
              "      <th>A16</th>\n",
              "    </tr>\n",
              "  </thead>\n",
              "  <tbody>\n",
              "    <tr>\n",
              "      <th>200</th>\n",
              "      <td>a</td>\n",
              "      <td>24.08</td>\n",
              "      <td>0.50</td>\n",
              "      <td>u</td>\n",
              "      <td>g</td>\n",
              "      <td>q</td>\n",
              "      <td>h</td>\n",
              "      <td>1.250</td>\n",
              "      <td>t</td>\n",
              "      <td>t</td>\n",
              "      <td>1</td>\n",
              "      <td>f</td>\n",
              "      <td>g</td>\n",
              "      <td>0.0</td>\n",
              "      <td>678</td>\n",
              "      <td>+</td>\n",
              "    </tr>\n",
              "    <tr>\n",
              "      <th>606</th>\n",
              "      <td>b</td>\n",
              "      <td>16.17</td>\n",
              "      <td>0.04</td>\n",
              "      <td>u</td>\n",
              "      <td>g</td>\n",
              "      <td>c</td>\n",
              "      <td>v</td>\n",
              "      <td>0.040</td>\n",
              "      <td>f</td>\n",
              "      <td>f</td>\n",
              "      <td>0</td>\n",
              "      <td>f</td>\n",
              "      <td>g</td>\n",
              "      <td>0.0</td>\n",
              "      <td>0</td>\n",
              "      <td>+</td>\n",
              "    </tr>\n",
              "    <tr>\n",
              "      <th>244</th>\n",
              "      <td>b</td>\n",
              "      <td>18.50</td>\n",
              "      <td>2.00</td>\n",
              "      <td>u</td>\n",
              "      <td>g</td>\n",
              "      <td>i</td>\n",
              "      <td>v</td>\n",
              "      <td>1.500</td>\n",
              "      <td>t</td>\n",
              "      <td>t</td>\n",
              "      <td>2</td>\n",
              "      <td>f</td>\n",
              "      <td>g</td>\n",
              "      <td>120.0</td>\n",
              "      <td>300</td>\n",
              "      <td>+</td>\n",
              "    </tr>\n",
              "    <tr>\n",
              "      <th>24</th>\n",
              "      <td>a</td>\n",
              "      <td>41.17</td>\n",
              "      <td>6.50</td>\n",
              "      <td>u</td>\n",
              "      <td>g</td>\n",
              "      <td>q</td>\n",
              "      <td>v</td>\n",
              "      <td>0.500</td>\n",
              "      <td>t</td>\n",
              "      <td>t</td>\n",
              "      <td>3</td>\n",
              "      <td>t</td>\n",
              "      <td>g</td>\n",
              "      <td>145.0</td>\n",
              "      <td>0</td>\n",
              "      <td>+</td>\n",
              "    </tr>\n",
              "    <tr>\n",
              "      <th>222</th>\n",
              "      <td>a</td>\n",
              "      <td>17.58</td>\n",
              "      <td>9.00</td>\n",
              "      <td>u</td>\n",
              "      <td>g</td>\n",
              "      <td>aa</td>\n",
              "      <td>v</td>\n",
              "      <td>1.375</td>\n",
              "      <td>t</td>\n",
              "      <td>f</td>\n",
              "      <td>0</td>\n",
              "      <td>t</td>\n",
              "      <td>g</td>\n",
              "      <td>0.0</td>\n",
              "      <td>0</td>\n",
              "      <td>+</td>\n",
              "    </tr>\n",
              "  </tbody>\n",
              "</table>\n",
              "</div>"
            ],
            "text/plain": [
              "    A1     A2    A3 A4 A5  A6 A7     A8 A9 A10  A11 A12 A13    A14  A15 A16\n",
              "200  a  24.08  0.50  u  g   q  h  1.250  t   t    1   f   g    0.0  678   +\n",
              "606  b  16.17  0.04  u  g   c  v  0.040  f   f    0   f   g    0.0    0   +\n",
              "244  b  18.50  2.00  u  g   i  v  1.500  t   t    2   f   g  120.0  300   +\n",
              "24   a  41.17  6.50  u  g   q  v  0.500  t   t    3   t   g  145.0    0   +\n",
              "222  a  17.58  9.00  u  g  aa  v  1.375  t   f    0   t   g    0.0    0   +"
            ]
          },
          "metadata": {
            "tags": []
          },
          "execution_count": 15
        }
      ]
    },
    {
      "cell_type": "code",
      "metadata": {
        "id": "BCJRSWCTXF1k",
        "colab_type": "code",
        "outputId": "ae9db46c-9002-482a-8619-5a11f69643f7",
        "colab": {
          "base_uri": "https://localhost:8080/",
          "height": 204
        }
      },
      "source": [
        "rejected_cards.sample(5)"
      ],
      "execution_count": 0,
      "outputs": [
        {
          "output_type": "execute_result",
          "data": {
            "text/html": [
              "<div>\n",
              "<style scoped>\n",
              "    .dataframe tbody tr th:only-of-type {\n",
              "        vertical-align: middle;\n",
              "    }\n",
              "\n",
              "    .dataframe tbody tr th {\n",
              "        vertical-align: top;\n",
              "    }\n",
              "\n",
              "    .dataframe thead th {\n",
              "        text-align: right;\n",
              "    }\n",
              "</style>\n",
              "<table border=\"1\" class=\"dataframe\">\n",
              "  <thead>\n",
              "    <tr style=\"text-align: right;\">\n",
              "      <th></th>\n",
              "      <th>A1</th>\n",
              "      <th>A2</th>\n",
              "      <th>A3</th>\n",
              "      <th>A4</th>\n",
              "      <th>A5</th>\n",
              "      <th>A6</th>\n",
              "      <th>A7</th>\n",
              "      <th>A8</th>\n",
              "      <th>A9</th>\n",
              "      <th>A10</th>\n",
              "      <th>A11</th>\n",
              "      <th>A12</th>\n",
              "      <th>A13</th>\n",
              "      <th>A14</th>\n",
              "      <th>A15</th>\n",
              "      <th>A16</th>\n",
              "    </tr>\n",
              "  </thead>\n",
              "  <tbody>\n",
              "    <tr>\n",
              "      <th>648</th>\n",
              "      <td>b</td>\n",
              "      <td>25.58</td>\n",
              "      <td>0.335</td>\n",
              "      <td>u</td>\n",
              "      <td>g</td>\n",
              "      <td>k</td>\n",
              "      <td>h</td>\n",
              "      <td>3.500</td>\n",
              "      <td>f</td>\n",
              "      <td>f</td>\n",
              "      <td>0</td>\n",
              "      <td>t</td>\n",
              "      <td>g</td>\n",
              "      <td>340.0</td>\n",
              "      <td>0</td>\n",
              "      <td>-</td>\n",
              "    </tr>\n",
              "    <tr>\n",
              "      <th>85</th>\n",
              "      <td>b</td>\n",
              "      <td>37.17</td>\n",
              "      <td>4.000</td>\n",
              "      <td>u</td>\n",
              "      <td>g</td>\n",
              "      <td>c</td>\n",
              "      <td>bb</td>\n",
              "      <td>5.000</td>\n",
              "      <td>t</td>\n",
              "      <td>f</td>\n",
              "      <td>0</td>\n",
              "      <td>t</td>\n",
              "      <td>s</td>\n",
              "      <td>280.0</td>\n",
              "      <td>0</td>\n",
              "      <td>-</td>\n",
              "    </tr>\n",
              "    <tr>\n",
              "      <th>73</th>\n",
              "      <td>b</td>\n",
              "      <td>44.25</td>\n",
              "      <td>0.500</td>\n",
              "      <td>u</td>\n",
              "      <td>g</td>\n",
              "      <td>m</td>\n",
              "      <td>v</td>\n",
              "      <td>10.750</td>\n",
              "      <td>t</td>\n",
              "      <td>f</td>\n",
              "      <td>0</td>\n",
              "      <td>f</td>\n",
              "      <td>s</td>\n",
              "      <td>400.0</td>\n",
              "      <td>0</td>\n",
              "      <td>-</td>\n",
              "    </tr>\n",
              "    <tr>\n",
              "      <th>335</th>\n",
              "      <td>b</td>\n",
              "      <td>27.67</td>\n",
              "      <td>0.750</td>\n",
              "      <td>u</td>\n",
              "      <td>g</td>\n",
              "      <td>q</td>\n",
              "      <td>h</td>\n",
              "      <td>0.165</td>\n",
              "      <td>f</td>\n",
              "      <td>f</td>\n",
              "      <td>0</td>\n",
              "      <td>t</td>\n",
              "      <td>g</td>\n",
              "      <td>220.0</td>\n",
              "      <td>251</td>\n",
              "      <td>-</td>\n",
              "    </tr>\n",
              "    <tr>\n",
              "      <th>637</th>\n",
              "      <td>b</td>\n",
              "      <td>19.50</td>\n",
              "      <td>9.585</td>\n",
              "      <td>u</td>\n",
              "      <td>g</td>\n",
              "      <td>aa</td>\n",
              "      <td>v</td>\n",
              "      <td>0.790</td>\n",
              "      <td>f</td>\n",
              "      <td>f</td>\n",
              "      <td>0</td>\n",
              "      <td>f</td>\n",
              "      <td>g</td>\n",
              "      <td>80.0</td>\n",
              "      <td>350</td>\n",
              "      <td>-</td>\n",
              "    </tr>\n",
              "  </tbody>\n",
              "</table>\n",
              "</div>"
            ],
            "text/plain": [
              "    A1     A2     A3 A4 A5  A6  A7      A8 A9 A10  A11 A12 A13    A14  A15 A16\n",
              "648  b  25.58  0.335  u  g   k   h   3.500  f   f    0   t   g  340.0    0   -\n",
              "85   b  37.17  4.000  u  g   c  bb   5.000  t   f    0   t   s  280.0    0   -\n",
              "73   b  44.25  0.500  u  g   m   v  10.750  t   f    0   f   s  400.0    0   -\n",
              "335  b  27.67  0.750  u  g   q   h   0.165  f   f    0   t   g  220.0  251   -\n",
              "637  b  19.50  9.585  u  g  aa   v   0.790  f   f    0   f   g   80.0  350   -"
            ]
          },
          "metadata": {
            "tags": []
          },
          "execution_count": 16
        }
      ]
    },
    {
      "cell_type": "code",
      "metadata": {
        "id": "gnWFkyJtX57-",
        "colab_type": "code",
        "outputId": "d4a42082-06e2-45b1-fa09-e7ec130fd259",
        "colab": {
          "base_uri": "https://localhost:8080/",
          "height": 142
        }
      },
      "source": [
        "crosstab_approved = pd.crosstab(aproved_cards['A1'], aproved_cards['A16'])\n",
        "crosstab_approved"
      ],
      "execution_count": 0,
      "outputs": [
        {
          "output_type": "execute_result",
          "data": {
            "text/html": [
              "<div>\n",
              "<style scoped>\n",
              "    .dataframe tbody tr th:only-of-type {\n",
              "        vertical-align: middle;\n",
              "    }\n",
              "\n",
              "    .dataframe tbody tr th {\n",
              "        vertical-align: top;\n",
              "    }\n",
              "\n",
              "    .dataframe thead th {\n",
              "        text-align: right;\n",
              "    }\n",
              "</style>\n",
              "<table border=\"1\" class=\"dataframe\">\n",
              "  <thead>\n",
              "    <tr style=\"text-align: right;\">\n",
              "      <th>A16</th>\n",
              "      <th>+</th>\n",
              "    </tr>\n",
              "    <tr>\n",
              "      <th>A1</th>\n",
              "      <th></th>\n",
              "    </tr>\n",
              "  </thead>\n",
              "  <tbody>\n",
              "    <tr>\n",
              "      <th>a</th>\n",
              "      <td>98</td>\n",
              "    </tr>\n",
              "    <tr>\n",
              "      <th>b</th>\n",
              "      <td>206</td>\n",
              "    </tr>\n",
              "  </tbody>\n",
              "</table>\n",
              "</div>"
            ],
            "text/plain": [
              "A16    +\n",
              "A1      \n",
              "a     98\n",
              "b    206"
            ]
          },
          "metadata": {
            "tags": []
          },
          "execution_count": 17
        }
      ]
    },
    {
      "cell_type": "code",
      "metadata": {
        "id": "YX8HFNIgZaYV",
        "colab_type": "code",
        "outputId": "89acd76d-ea8c-44d0-cf6c-36b6dad55f82",
        "colab": {
          "base_uri": "https://localhost:8080/",
          "height": 279
        }
      },
      "source": [
        "crosstab_approved.plot();"
      ],
      "execution_count": 0,
      "outputs": [
        {
          "output_type": "display_data",
          "data": {
            "image/png": "[encoded data removed]",
            "text/plain": [
              "<Figure size 432x288 with 1 Axes>"
            ]
          },
          "metadata": {
            "tags": [],
            "needs_background": "light"
          }
        }
      ]
    },
    {
      "cell_type": "code",
      "metadata": {
        "id": "PLBwMpvVZ_gI",
        "colab_type": "code",
        "outputId": "6a853acc-b9c9-4e91-f8e1-d5763cbf9414",
        "colab": {
          "base_uri": "https://localhost:8080/",
          "height": 142
        }
      },
      "source": [
        "crosstab_rejected = pd.crosstab(rejected_cards['A1'],rejected_cards['A16'])\n",
        "crosstab_rejected"
      ],
      "execution_count": 0,
      "outputs": [
        {
          "output_type": "execute_result",
          "data": {
            "text/html": [
              "<div>\n",
              "<style scoped>\n",
              "    .dataframe tbody tr th:only-of-type {\n",
              "        vertical-align: middle;\n",
              "    }\n",
              "\n",
              "    .dataframe tbody tr th {\n",
              "        vertical-align: top;\n",
              "    }\n",
              "\n",
              "    .dataframe thead th {\n",
              "        text-align: right;\n",
              "    }\n",
              "</style>\n",
              "<table border=\"1\" class=\"dataframe\">\n",
              "  <thead>\n",
              "    <tr style=\"text-align: right;\">\n",
              "      <th>A16</th>\n",
              "      <th>-</th>\n",
              "    </tr>\n",
              "    <tr>\n",
              "      <th>A1</th>\n",
              "      <th></th>\n",
              "    </tr>\n",
              "  </thead>\n",
              "  <tbody>\n",
              "    <tr>\n",
              "      <th>a</th>\n",
              "      <td>112</td>\n",
              "    </tr>\n",
              "    <tr>\n",
              "      <th>b</th>\n",
              "      <td>262</td>\n",
              "    </tr>\n",
              "  </tbody>\n",
              "</table>\n",
              "</div>"
            ],
            "text/plain": [
              "A16    -\n",
              "A1      \n",
              "a    112\n",
              "b    262"
            ]
          },
          "metadata": {
            "tags": []
          },
          "execution_count": 19
        }
      ]
    },
    {
      "cell_type": "code",
      "metadata": {
        "id": "2M8ILqIhabDz",
        "colab_type": "code",
        "outputId": "25ef6531-22d3-4c9e-bd75-c767c6daccf5",
        "colab": {
          "base_uri": "https://localhost:8080/",
          "height": 279
        }
      },
      "source": [
        "crosstab_rejected.plot();"
      ],
      "execution_count": 0,
      "outputs": [
        {
          "output_type": "display_data",
          "data": {
            "image/png": "[encoded data removed]",
            "text/plain": [
              "<Figure size 432x288 with 1 Axes>"
            ]
          },
          "metadata": {
            "tags": [],
            "needs_background": "light"
          }
        }
      ]
    },
    {
      "cell_type": "code",
      "metadata": {
        "id": "Y4Wym-P_a9DJ",
        "colab_type": "code",
        "outputId": "4f23d508-1d93-4f5e-add4-d1743de22615",
        "colab": {
          "base_uri": "https://localhost:8080/",
          "height": 483
        }
      },
      "source": [
        "aproved_cards['A2'].plot(figsize=(10,8));"
      ],
      "execution_count": 0,
      "outputs": [
        {
          "output_type": "display_data",
          "data": {
            "image/png": "[encoded data removed]",
            "text/plain": [
              "<Figure size 720x576 with 1 Axes>"
            ]
          },
          "metadata": {
            "tags": [],
            "needs_background": "light"
          }
        }
      ]
    },
    {
      "cell_type": "code",
      "metadata": {
        "id": "lomandELbJRV",
        "colab_type": "code",
        "outputId": "49a4b423-2654-4085-bdec-39d7cd574717",
        "colab": {
          "base_uri": "https://localhost:8080/",
          "height": 483
        }
      },
      "source": [
        "rejected_cards['A2'].plot(figsize=(10,8));"
      ],
      "execution_count": 0,
      "outputs": [
        {
          "output_type": "display_data",
          "data": {
            "image/png": "[encoded data removed]",
            "text/plain": [
              "<Figure size 720x576 with 1 Axes>"
            ]
          },
          "metadata": {
            "tags": [],
            "needs_background": "light"
          }
        }
      ]
    },
    {
      "cell_type": "code",
      "metadata": {
        "id": "A3FVQL_2cIxc",
        "colab_type": "code",
        "outputId": "3c211f54-0c14-4b7e-81df-fb81d0767b20",
        "colab": {
          "base_uri": "https://localhost:8080/",
          "height": 51
        }
      },
      "source": [
        "# checking the difference between 6 continues vaiables class wise\n",
        "print(aproved_cards['A2'].mean())\n",
        "print(rejected_cards['A2'].mean())"
      ],
      "execution_count": 0,
      "outputs": [
        {
          "output_type": "stream",
          "text": [
            "33.7204918032787\n",
            "29.80823056300268\n"
          ],
          "name": "stdout"
        }
      ]
    },
    {
      "cell_type": "code",
      "metadata": {
        "id": "H9jZZI66dAkA",
        "colab_type": "code",
        "outputId": "d9bfb5e2-7d86-4a3b-daa0-0df24c61fdb8",
        "colab": {
          "base_uri": "https://localhost:8080/",
          "height": 51
        }
      },
      "source": [
        "print(aproved_cards['A3'].mean())\n",
        "print(rejected_cards['A3'].mean())"
      ],
      "execution_count": 0,
      "outputs": [
        {
          "output_type": "stream",
          "text": [
            "5.904951140065144\n",
            "3.839947780678851\n"
          ],
          "name": "stdout"
        }
      ]
    },
    {
      "cell_type": "code",
      "metadata": {
        "id": "5jY1k-e5dYQM",
        "colab_type": "code",
        "outputId": "1789c1d4-b2fb-41f4-ab2b-ce74e8239a19",
        "colab": {
          "base_uri": "https://localhost:8080/",
          "height": 51
        }
      },
      "source": [
        "print(aproved_cards['A8'].mean())\n",
        "print(rejected_cards['A8'].mean())"
      ],
      "execution_count": 0,
      "outputs": [
        {
          "output_type": "stream",
          "text": [
            "3.427899022801302\n",
            "1.2579242819843346\n"
          ],
          "name": "stdout"
        }
      ]
    },
    {
      "cell_type": "code",
      "metadata": {
        "id": "ZT42GNktdYoV",
        "colab_type": "code",
        "outputId": "fed51624-6638-4d99-8d28-30d80151ed5e",
        "colab": {
          "base_uri": "https://localhost:8080/",
          "height": 51
        }
      },
      "source": [
        "print(aproved_cards['A11'].mean())\n",
        "print(rejected_cards['A11'].mean())"
      ],
      "execution_count": 0,
      "outputs": [
        {
          "output_type": "stream",
          "text": [
            "4.605863192182411\n",
            "0.6318537859007833\n"
          ],
          "name": "stdout"
        }
      ]
    },
    {
      "cell_type": "code",
      "metadata": {
        "id": "5dUqWK3ddpj8",
        "colab_type": "code",
        "outputId": "fb7e14cb-5389-466c-c1a5-d7987203edf1",
        "colab": {
          "base_uri": "https://localhost:8080/",
          "height": 51
        }
      },
      "source": [
        "print(aproved_cards['A14'].mean())\n",
        "print(rejected_cards['A14'].mean())"
      ],
      "execution_count": 0,
      "outputs": [
        {
          "output_type": "stream",
          "text": [
            "164.421926910299\n",
            "199.6994680851064\n"
          ],
          "name": "stdout"
        }
      ]
    },
    {
      "cell_type": "code",
      "metadata": {
        "id": "1Z-z7zEsdp22",
        "colab_type": "code",
        "outputId": "869706eb-c6fa-42cf-ca2b-ee1d96608e1e",
        "colab": {
          "base_uri": "https://localhost:8080/",
          "height": 51
        }
      },
      "source": [
        "print(aproved_cards['A15'].mean())\n",
        "print(rejected_cards['A15'].mean())\n"
      ],
      "execution_count": 0,
      "outputs": [
        {
          "output_type": "stream",
          "text": [
            "2038.85993485342\n",
            "198.60574412532637\n"
          ],
          "name": "stdout"
        }
      ]
    },
    {
      "cell_type": "code",
      "metadata": {
        "id": "0KO5vUCWeo3l",
        "colab_type": "code",
        "outputId": "a4575fe4-8b5f-4c00-c679-8b2759a52ceb",
        "colab": {
          "base_uri": "https://localhost:8080/",
          "height": 34
        }
      },
      "source": [
        "#As we can see A3 is less difference and A15 is alot differnce we ill use two feature to run our ttest \n",
        "from scipy.stats import ttest_ind,ttest_ind_from_stats,ttest_rel\n",
        "ttest_ind(aproved_cards['A3'],rejected_cards['A3'],nan_policy='omit')"
      ],
      "execution_count": 0,
      "outputs": [
        {
          "output_type": "execute_result",
          "data": {
            "text/plain": [
              "Ttest_indResult(statistic=5.52998337614816, pvalue=4.551680702308068e-08)"
            ]
          },
          "metadata": {
            "tags": []
          },
          "execution_count": 29
        }
      ]
    },
    {
      "cell_type": "code",
      "metadata": {
        "id": "txVmhjWMfShr",
        "colab_type": "code",
        "outputId": "d6264c2d-d160-439a-b4d8-21afd40800a8",
        "colab": {
          "base_uri": "https://localhost:8080/",
          "height": 34
        }
      },
      "source": [
        "ttest_ind(aproved_cards['A15'],rejected_cards['A15'],nan_policy='omit')"
      ],
      "execution_count": 0,
      "outputs": [
        {
          "output_type": "execute_result",
          "data": {
            "text/plain": [
              "Ttest_indResult(statistic=4.680216020964486, pvalue=3.4520256956287944e-06)"
            ]
          },
          "metadata": {
            "tags": []
          },
          "execution_count": 30
        }
      ]
    },
    {
      "cell_type": "code",
      "metadata": {
        "id": "fFkVrWXdgcz0",
        "colab_type": "code",
        "outputId": "723ef445-d528-4e99-be07-449a99024d93",
        "colab": {
          "base_uri": "https://localhost:8080/",
          "height": 142
        }
      },
      "source": [
        "#making crosstabs with out catagorical variables\n",
        "crosstabA1=pd.crosstab(data['A1'],data['A16'])\n",
        "crosstabA1"
      ],
      "execution_count": 0,
      "outputs": [
        {
          "output_type": "execute_result",
          "data": {
            "text/html": [
              "<div>\n",
              "<style scoped>\n",
              "    .dataframe tbody tr th:only-of-type {\n",
              "        vertical-align: middle;\n",
              "    }\n",
              "\n",
              "    .dataframe tbody tr th {\n",
              "        vertical-align: top;\n",
              "    }\n",
              "\n",
              "    .dataframe thead th {\n",
              "        text-align: right;\n",
              "    }\n",
              "</style>\n",
              "<table border=\"1\" class=\"dataframe\">\n",
              "  <thead>\n",
              "    <tr style=\"text-align: right;\">\n",
              "      <th>A16</th>\n",
              "      <th>+</th>\n",
              "      <th>-</th>\n",
              "    </tr>\n",
              "    <tr>\n",
              "      <th>A1</th>\n",
              "      <th></th>\n",
              "      <th></th>\n",
              "    </tr>\n",
              "  </thead>\n",
              "  <tbody>\n",
              "    <tr>\n",
              "      <th>a</th>\n",
              "      <td>98</td>\n",
              "      <td>112</td>\n",
              "    </tr>\n",
              "    <tr>\n",
              "      <th>b</th>\n",
              "      <td>206</td>\n",
              "      <td>262</td>\n",
              "    </tr>\n",
              "  </tbody>\n",
              "</table>\n",
              "</div>"
            ],
            "text/plain": [
              "A16    +    -\n",
              "A1           \n",
              "a     98  112\n",
              "b    206  262"
            ]
          },
          "metadata": {
            "tags": []
          },
          "execution_count": 31
        }
      ]
    },
    {
      "cell_type": "code",
      "metadata": {
        "id": "EdsssWYXmgk4",
        "colab_type": "code",
        "outputId": "866b70da-033e-4b1b-93a4-56208f71ad75",
        "colab": {
          "base_uri": "https://localhost:8080/",
          "height": 34
        }
      },
      "source": [
        "from scipy.stats import ttest_ind,ttest_ind_from_stats,ttest_rel,stats\n",
        "stats.chisquare(crosstabA1)\n"
      ],
      "execution_count": 0,
      "outputs": [
        {
          "output_type": "execute_result",
          "data": {
            "text/plain": [
              "Power_divergenceResult(statistic=array([38.36842105, 60.16042781]), pvalue=array([5.85725757e-10, 8.74324572e-15]))"
            ]
          },
          "metadata": {
            "tags": []
          },
          "execution_count": 32
        }
      ]
    },
    {
      "cell_type": "code",
      "metadata": {
        "id": "GIuwRbkmphd-",
        "colab_type": "code",
        "outputId": "b0238b7d-a2f0-4737-920e-6bf598ce1669",
        "colab": {
          "base_uri": "https://localhost:8080/",
          "height": 173
        }
      },
      "source": [
        "# checking first catagorical variable with class\n",
        "crosstabA4=pd.crosstab(data['A4'],data['A16'])\n",
        "crosstabA4"
      ],
      "execution_count": 0,
      "outputs": [
        {
          "output_type": "execute_result",
          "data": {
            "text/html": [
              "<div>\n",
              "<style scoped>\n",
              "    .dataframe tbody tr th:only-of-type {\n",
              "        vertical-align: middle;\n",
              "    }\n",
              "\n",
              "    .dataframe tbody tr th {\n",
              "        vertical-align: top;\n",
              "    }\n",
              "\n",
              "    .dataframe thead th {\n",
              "        text-align: right;\n",
              "    }\n",
              "</style>\n",
              "<table border=\"1\" class=\"dataframe\">\n",
              "  <thead>\n",
              "    <tr style=\"text-align: right;\">\n",
              "      <th>A16</th>\n",
              "      <th>+</th>\n",
              "      <th>-</th>\n",
              "    </tr>\n",
              "    <tr>\n",
              "      <th>A4</th>\n",
              "      <th></th>\n",
              "      <th></th>\n",
              "    </tr>\n",
              "  </thead>\n",
              "  <tbody>\n",
              "    <tr>\n",
              "      <th>l</th>\n",
              "      <td>2</td>\n",
              "      <td>0</td>\n",
              "    </tr>\n",
              "    <tr>\n",
              "      <th>u</th>\n",
              "      <td>256</td>\n",
              "      <td>263</td>\n",
              "    </tr>\n",
              "    <tr>\n",
              "      <th>y</th>\n",
              "      <td>45</td>\n",
              "      <td>118</td>\n",
              "    </tr>\n",
              "  </tbody>\n",
              "</table>\n",
              "</div>"
            ],
            "text/plain": [
              "A16    +    -\n",
              "A4           \n",
              "l      2    0\n",
              "u    256  263\n",
              "y     45  118"
            ]
          },
          "metadata": {
            "tags": []
          },
          "execution_count": 33
        }
      ]
    },
    {
      "cell_type": "code",
      "metadata": {
        "id": "ScrWNjY7Mqua",
        "colab_type": "code",
        "outputId": "633a64e4-6418-4826-9372-90ebd83b0fb9",
        "colab": {
          "base_uri": "https://localhost:8080/",
          "height": 173
        }
      },
      "source": [
        "#checking 2nd catgorical variable with class\n",
        "crosstabA13=pd.crosstab(data['A13'],data['A16'])\n",
        "crosstabA13"
      ],
      "execution_count": 0,
      "outputs": [
        {
          "output_type": "execute_result",
          "data": {
            "text/html": [
              "<div>\n",
              "<style scoped>\n",
              "    .dataframe tbody tr th:only-of-type {\n",
              "        vertical-align: middle;\n",
              "    }\n",
              "\n",
              "    .dataframe tbody tr th {\n",
              "        vertical-align: top;\n",
              "    }\n",
              "\n",
              "    .dataframe thead th {\n",
              "        text-align: right;\n",
              "    }\n",
              "</style>\n",
              "<table border=\"1\" class=\"dataframe\">\n",
              "  <thead>\n",
              "    <tr style=\"text-align: right;\">\n",
              "      <th>A16</th>\n",
              "      <th>+</th>\n",
              "      <th>-</th>\n",
              "    </tr>\n",
              "    <tr>\n",
              "      <th>A13</th>\n",
              "      <th></th>\n",
              "      <th></th>\n",
              "    </tr>\n",
              "  </thead>\n",
              "  <tbody>\n",
              "    <tr>\n",
              "      <th>g</th>\n",
              "      <td>287</td>\n",
              "      <td>338</td>\n",
              "    </tr>\n",
              "    <tr>\n",
              "      <th>p</th>\n",
              "      <td>5</td>\n",
              "      <td>3</td>\n",
              "    </tr>\n",
              "    <tr>\n",
              "      <th>s</th>\n",
              "      <td>15</td>\n",
              "      <td>42</td>\n",
              "    </tr>\n",
              "  </tbody>\n",
              "</table>\n",
              "</div>"
            ],
            "text/plain": [
              "A16    +    -\n",
              "A13          \n",
              "g    287  338\n",
              "p      5    3\n",
              "s     15   42"
            ]
          },
          "metadata": {
            "tags": []
          },
          "execution_count": 35
        }
      ]
    },
    {
      "cell_type": "code",
      "metadata": {
        "id": "-Yaf_aOxhHL7",
        "colab_type": "code",
        "outputId": "f1dfa6dc-3398-44c9-d996-f49edc822bc4",
        "colab": {
          "base_uri": "https://localhost:8080/",
          "height": 34
        }
      },
      "source": [
        "#chisquare on first catagorical\n",
        "stats.chisquare(crosstabA4)"
      ],
      "execution_count": 0,
      "outputs": [
        {
          "output_type": "execute_result",
          "data": {
            "text/plain": [
              "Power_divergenceResult(statistic=array([365.96039604, 273.27559055]), pvalue=array([3.40964923e-80, 4.55994382e-60]))"
            ]
          },
          "metadata": {
            "tags": []
          },
          "execution_count": 104
        }
      ]
    },
    {
      "cell_type": "code",
      "metadata": {
        "id": "G1NLNXilNiV9",
        "colab_type": "code",
        "outputId": "8e233bbe-1347-4251-b297-29124d965fcf",
        "colab": {
          "base_uri": "https://localhost:8080/",
          "height": 34
        }
      },
      "source": [
        "#chisquare on 2nd catagorical\n",
        "stats.chisquare(crosstabA13)"
      ],
      "execution_count": 0,
      "outputs": [
        {
          "output_type": "execute_result",
          "data": {
            "text/plain": [
              "Power_divergenceResult(statistic=array([500.35179153, 525.74934726]), pvalue=array([2.23866425e-109, 6.83879855e-115]))"
            ]
          },
          "metadata": {
            "tags": []
          },
          "execution_count": 37
        }
      ]
    },
    {
      "cell_type": "markdown",
      "metadata": {
        "id": "ZM8JckA2bgnp",
        "colab_type": "text"
      },
      "source": [
        "## Part 3 - Analysis and Interpretation\n",
        "\n",
        "Now that you've looked at the data, answer the following questions:\n",
        "\n",
        "- Interpret and explain the two t-tests you ran - what do they tell you about the relationships between the continuous features you selected and the class labels?\n",
        "** The ttest which i ran were on to continues varibales class wise , in which one was so different in the means and the other was least diffenrt in the mean class wise .**\n",
        "- Interpret and explain the two Chi-squared tests you ran - what do they tell you about the relationships between the categorical features you selected and the class labels?\n",
        "- What was the most challenging part of this sprint challenge?\n",
        "**The most challanging part was data itself as it was confidential with no specific headers was a big confusion and took alot of time thinking of where to start with.**\n",
        "\n",
        "Answer with text, but feel free to intersperse example code/results or refer to it from earlier."
      ]
    },
    {
      "cell_type": "markdown",
      "metadata": {
        "id": "LIozLDNG2Uhu",
        "colab_type": "text"
      },
      "source": [
        "*Your words here!*"
      ]
    },
    {
      "cell_type": "markdown",
      "metadata": {
        "id": "pvs3_-sNWQv0",
        "colab_type": "text"
      },
      "source": [
        "## Part 4 - Bayesian vs Frequentist Statistics\n",
        "\n",
        "Using a minimum of 2-3 sentences, give an explanation of Bayesian and Frequentist statistics, and then compare and contrast these two approaches to statistical inference.\n",
        "\n"
      ]
    },
    {
      "cell_type": "markdown",
      "metadata": {
        "id": "h1oK1UaDWrI-",
        "colab_type": "text"
      },
      "source": [
        "A Bayesian approach is a conditional probability or a probabilistic construct that allows new information to be combined with existing information and the probability of an outcome as the frequency of the number of times the outcome occurs relative to the number of times that it could have occured is frequent approach below is the statistical inference :\n",
        "**BAYESIAN**\n",
        "• uses probabilities for both hypotheses and data.\n",
        "• depends on the prior and likelihood of observed data.\n",
        "• requires one to know or construct a ‘subjective prior’.\n",
        "• may be computationally intensive due to integration over many parameters.\n",
        "**Frequent** \n",
        "• never uses or gives the probability of a hypothesis (no prior or posterior).\n",
        "• depends on the likelihood for both observed and unobserved data.\n",
        "• does not require a prior.\n",
        "• tends to be less computationally intensive"
      ]
    },
    {
      "cell_type": "markdown",
      "metadata": {
        "id": "XOequK5xpVz7",
        "colab_type": "text"
      },
      "source": [
        "# Stretch Goals: \n",
        "Do these to get a 3. These are not required in order to pass the Sprint Challenge.\n",
        "\n",
        "## Part 1: \n",
        "\n",
        "Make sure that all of your dataframe columns have the appropriate data types. *Hint:* If a column has the datatype of \"object\" even though it's made up of float or integer values, you can coerce it to act as a numeric column by using the `pd.to_numeric()` function. In order to get a 3 on this section make sure that your data exploration is particularly well commented, easy to follow, and thorough.\n",
        "\n",
        "## Part 2:\n",
        "\n",
        "Write functions that can calculate t-tests and chi^2 tests on all of the appropriate column combinations from the dataset. (Remember that certain tests require certain variable types.)\n",
        "\n",
        "## Part 3: \n",
        "\n",
        "Calculate and report confidence intervals on your most important mean estimates (choose at least two). Make some kind of a graphic or visualization to help us see visually how precise these estimates are.\n",
        "\n",
        "## Part 4:\n",
        "\n",
        "Give an extra awesome explanation of Bayesian vs Frequentist Statistics. Maybe use code or visualizations, or any other means necessary to show an above average grasp of these high level concepts."
      ]
    },
    {
      "cell_type": "code",
      "metadata": {
        "id": "NT37grnxqa05",
        "colab_type": "code",
        "colab": {}
      },
      "source": [
        "# You can work the stretch goals down here or back up in their regular sections\n",
        "# just make sure that they are labeled so that we can easily differentiate\n",
        "# your main work from the stretch goals."
      ],
      "execution_count": 0,
      "outputs": []
    }
  ]
}